{
 "cells": [
  {
   "cell_type": "markdown",
   "id": "8b21168a-8301-4cd1-a166-adef9dc69924",
   "metadata": {},
   "source": [
    "# Principle Component Analysis"
   ]
  },
  {
   "cell_type": "markdown",
   "id": "62f328a3-d796-4cfd-8ea9-b2b9dd90ce9c",
   "metadata": {},
   "source": [
    "Since the merge between the datasets created a lot of columns (over 2,000), it's necesary to reduce the dimensions of the dataset with PCA before running the k-means algorithm."
   ]
  },
  {
   "cell_type": "markdown",
   "id": "88fac086-8b3a-4f8d-ace0-32e1e5897469",
   "metadata": {},
   "source": [
    "## Import Statements"
   ]
  },
  {
   "cell_type": "code",
   "execution_count": 1,
   "id": "52ac4cb3-1898-4cc4-8d67-bd05321a424b",
   "metadata": {},
   "outputs": [],
   "source": [
    "from sklearn.decomposition import PCA\n",
    "from sklearn.preprocessing import StandardScaler\n",
    "import pandas as pd\n",
    "import numpy as np\n",
    "import matplotlib.pyplot as plt"
   ]
  },
  {
   "cell_type": "code",
   "execution_count": 2,
   "id": "923e0a7c-dfb8-412b-a374-1f35dd9b3b4f",
   "metadata": {},
   "outputs": [
    {
     "data": {
      "text/plain": [
       "np.int64(0)"
      ]
     },
     "execution_count": 2,
     "metadata": {},
     "output_type": "execute_result"
    }
   ],
   "source": [
    "df = pd.read_csv(\"bofedales-clean.csv\")\n",
    "df = df.drop([\"Unnamed: 0\"], axis=1)\n",
    "df.isna().sum().sum()"
   ]
  },
  {
   "cell_type": "code",
   "execution_count": 3,
   "id": "f407bfa6-be61-474e-ac92-31bd23b05a6c",
   "metadata": {},
   "outputs": [
    {
     "data": {
      "text/plain": [
       "(2534, 2289)"
      ]
     },
     "execution_count": 3,
     "metadata": {},
     "output_type": "execute_result"
    }
   ],
   "source": [
    "df.shape"
   ]
  },
  {
   "cell_type": "code",
   "execution_count": 4,
   "id": "9f3c2c0e-b697-4799-822f-85bc537221f8",
   "metadata": {},
   "outputs": [
    {
     "data": {
      "text/html": [
       "<div>\n",
       "<style scoped>\n",
       "    .dataframe tbody tr th:only-of-type {\n",
       "        vertical-align: middle;\n",
       "    }\n",
       "\n",
       "    .dataframe tbody tr th {\n",
       "        vertical-align: top;\n",
       "    }\n",
       "\n",
       "    .dataframe thead th {\n",
       "        text-align: right;\n",
       "    }\n",
       "</style>\n",
       "<table border=\"1\" class=\"dataframe\">\n",
       "  <thead>\n",
       "    <tr style=\"text-align: right;\">\n",
       "      <th></th>\n",
       "      <th>Area_m2</th>\n",
       "      <th>AUC</th>\n",
       "      <th>pct_prot</th>\n",
       "      <th>elev_mean_</th>\n",
       "      <th>elev_std_m</th>\n",
       "      <th>n_wells</th>\n",
       "      <th>Ground Water Rights 1966-01-01</th>\n",
       "      <th>Ground Water Rights 1967-01-01</th>\n",
       "      <th>Ground Water Rights 1968-01-01</th>\n",
       "      <th>Ground Water Rights 1969-01-01</th>\n",
       "      <th>...</th>\n",
       "      <th>NDWI 2019-03</th>\n",
       "      <th>NDWI 2019-04</th>\n",
       "      <th>NDWI 2019-05</th>\n",
       "      <th>NDWI 2019-06</th>\n",
       "      <th>NDWI 2019-07</th>\n",
       "      <th>NDWI 2019-08</th>\n",
       "      <th>NDWI 2019-09</th>\n",
       "      <th>NDWI 2019-10</th>\n",
       "      <th>NDWI 2019-11</th>\n",
       "      <th>NDWI 2019-12</th>\n",
       "    </tr>\n",
       "  </thead>\n",
       "  <tbody>\n",
       "    <tr>\n",
       "      <th>0</th>\n",
       "      <td>6300</td>\n",
       "      <td>86.769539</td>\n",
       "      <td>0.0</td>\n",
       "      <td>4162.714286</td>\n",
       "      <td>3.953815</td>\n",
       "      <td>0.0</td>\n",
       "      <td>0.0</td>\n",
       "      <td>0.0</td>\n",
       "      <td>0.0</td>\n",
       "      <td>0.0</td>\n",
       "      <td>...</td>\n",
       "      <td>0.031930</td>\n",
       "      <td>0.026136</td>\n",
       "      <td>0.022087</td>\n",
       "      <td>0.019181</td>\n",
       "      <td>0.023405</td>\n",
       "      <td>0.015355</td>\n",
       "      <td>-0.000504</td>\n",
       "      <td>0.004056</td>\n",
       "      <td>0.014678</td>\n",
       "      <td>0.010436</td>\n",
       "    </tr>\n",
       "    <tr>\n",
       "      <th>1</th>\n",
       "      <td>5400</td>\n",
       "      <td>83.176353</td>\n",
       "      <td>0.0</td>\n",
       "      <td>4073.500000</td>\n",
       "      <td>12.406316</td>\n",
       "      <td>0.0</td>\n",
       "      <td>0.0</td>\n",
       "      <td>0.0</td>\n",
       "      <td>0.0</td>\n",
       "      <td>0.0</td>\n",
       "      <td>...</td>\n",
       "      <td>-0.057992</td>\n",
       "      <td>-0.053230</td>\n",
       "      <td>-0.054671</td>\n",
       "      <td>-0.064990</td>\n",
       "      <td>-0.063351</td>\n",
       "      <td>-0.074670</td>\n",
       "      <td>-0.085071</td>\n",
       "      <td>-0.081491</td>\n",
       "      <td>-0.061333</td>\n",
       "      <td>-0.055450</td>\n",
       "    </tr>\n",
       "    <tr>\n",
       "      <th>2</th>\n",
       "      <td>6300</td>\n",
       "      <td>103.719438</td>\n",
       "      <td>0.0</td>\n",
       "      <td>4278.571429</td>\n",
       "      <td>6.161102</td>\n",
       "      <td>0.0</td>\n",
       "      <td>0.0</td>\n",
       "      <td>0.0</td>\n",
       "      <td>0.0</td>\n",
       "      <td>0.0</td>\n",
       "      <td>...</td>\n",
       "      <td>0.065899</td>\n",
       "      <td>0.070822</td>\n",
       "      <td>0.070075</td>\n",
       "      <td>0.068015</td>\n",
       "      <td>0.068144</td>\n",
       "      <td>0.062340</td>\n",
       "      <td>0.047670</td>\n",
       "      <td>0.050570</td>\n",
       "      <td>0.056227</td>\n",
       "      <td>0.059294</td>\n",
       "    </tr>\n",
       "  </tbody>\n",
       "</table>\n",
       "<p>3 rows × 2289 columns</p>\n",
       "</div>"
      ],
      "text/plain": [
       "   Area_m2         AUC  pct_prot   elev_mean_  elev_std_m  n_wells  \\\n",
       "0     6300   86.769539       0.0  4162.714286    3.953815      0.0   \n",
       "1     5400   83.176353       0.0  4073.500000   12.406316      0.0   \n",
       "2     6300  103.719438       0.0  4278.571429    6.161102      0.0   \n",
       "\n",
       "   Ground Water Rights 1966-01-01  Ground Water Rights 1967-01-01  \\\n",
       "0                             0.0                             0.0   \n",
       "1                             0.0                             0.0   \n",
       "2                             0.0                             0.0   \n",
       "\n",
       "   Ground Water Rights 1968-01-01  Ground Water Rights 1969-01-01  ...  \\\n",
       "0                             0.0                             0.0  ...   \n",
       "1                             0.0                             0.0  ...   \n",
       "2                             0.0                             0.0  ...   \n",
       "\n",
       "   NDWI 2019-03  NDWI 2019-04  NDWI 2019-05  NDWI 2019-06  NDWI 2019-07  \\\n",
       "0      0.031930      0.026136      0.022087      0.019181      0.023405   \n",
       "1     -0.057992     -0.053230     -0.054671     -0.064990     -0.063351   \n",
       "2      0.065899      0.070822      0.070075      0.068015      0.068144   \n",
       "\n",
       "   NDWI 2019-08  NDWI 2019-09  NDWI 2019-10  NDWI 2019-11  NDWI 2019-12  \n",
       "0      0.015355     -0.000504      0.004056      0.014678      0.010436  \n",
       "1     -0.074670     -0.085071     -0.081491     -0.061333     -0.055450  \n",
       "2      0.062340      0.047670      0.050570      0.056227      0.059294  \n",
       "\n",
       "[3 rows x 2289 columns]"
      ]
     },
     "execution_count": 4,
     "metadata": {},
     "output_type": "execute_result"
    }
   ],
   "source": [
    "df.head(3)"
   ]
  },
  {
   "cell_type": "markdown",
   "id": "155957a6-5a39-456f-a12a-ba00739bbee4",
   "metadata": {},
   "source": [
    "## Finding the Optimal Number of Principle Components"
   ]
  },
  {
   "cell_type": "markdown",
   "id": "2628ba86-26e4-4e5a-b1c1-107f2d49b771",
   "metadata": {},
   "source": [
    "First, check how many principle components account for 90% of the variance in the data"
   ]
  },
  {
   "cell_type": "code",
   "execution_count": 5,
   "id": "0ddb4d30-c02a-4a87-bd82-a1ea0786fc10",
   "metadata": {},
   "outputs": [],
   "source": [
    "scaler = StandardScaler()\n",
    "X_scaled = scaler.fit_transform(df)  "
   ]
  },
  {
   "cell_type": "code",
   "execution_count": 6,
   "id": "4f4b1efe-2f76-4282-ba64-108549edea76",
   "metadata": {},
   "outputs": [
    {
     "name": "stdout",
     "output_type": "stream",
     "text": [
      "Number of principal components chosen to explain 90.0% variance: 5\n",
      "Explained variance ratio (per PC):\n",
      "[0.7058 0.0929 0.0571 0.0397 0.0334]\n",
      "Cumulative explained variance: 0.9289\n"
     ]
    }
   ],
   "source": [
    "x_per_variance = 0.90\n",
    "\n",
    "pca = PCA(n_components=x_per_variance, svd_solver=\"full\")\n",
    "X_pca = pca.fit_transform(X_scaled)\n",
    "print(f\"Number of principal components chosen to explain {x_per_variance * 100}% variance: {pca.n_components_}\")\n",
    "print(\"Explained variance ratio (per PC):\")\n",
    "print(np.round(pca.explained_variance_ratio_, 4))\n",
    "print(\"Cumulative explained variance:\", round(pca.explained_variance_ratio_.cumsum()[-1], 4))"
   ]
  },
  {
   "cell_type": "markdown",
   "id": "f5b01557-b0d8-43a1-9259-3888c694fabd",
   "metadata": {},
   "source": [
    "Five PCs account for 90% of the variance, so the data can easily be greatly reduced in dimensionality."
   ]
  },
  {
   "cell_type": "markdown",
   "id": "491dad3d-f23c-461c-a11b-4eec81321694",
   "metadata": {},
   "source": [
    "Next, graph variance versus PCs. The elbow in the graph has the optional number of PCs -- afterwards, there are diminishing returns."
   ]
  },
  {
   "cell_type": "code",
   "execution_count": 7,
   "id": "7143d529-9e4e-4abd-9308-28597007a085",
   "metadata": {},
   "outputs": [
    {
     "data": {
      "image/png": "[encoded data removed]",
      "text/plain": [
       "<Figure size 800x500 with 1 Axes>"
      ]
     },
     "metadata": {},
     "output_type": "display_data"
    }
   ],
   "source": [
    "features_for_pca = df.columns.tolist()\n",
    "\n",
    "pca_full = PCA()\n",
    "pca_full.fit(X_scaled)\n",
    "\n",
    "cum_var = np.cumsum(pca_full.explained_variance_ratio_)\n",
    "\n",
    "# 6) Plot the \"elbow\" (cumulative explained variance vs. number of components)\n",
    "plt.figure(figsize=(8, 5))\n",
    "plt.plot(range(1, len(cum_var) + 1), cum_var, marker='o', linewidth=2)\n",
    "plt.axhline(y=0.90, color='r', linestyle='--', label='90% Threshold')\n",
    "plt.axhline(y=0.99, color='g', linestyle='--', label='99% Threshold')\n",
    "plt.xlabel(\"Number of Principal Components\")\n",
    "plt.ylabel(\"Cumulative Explained Variance\")\n",
    "plt.title(\"Elbow Plot: Cumulative Explained Variance by Number of PCs\")\n",
    "plt.legend()\n",
    "plt.grid(True)\n",
    "plt.tight_layout()\n",
    "\n",
    "plt.xlim(1, 50)\n",
    "\n",
    "plt.show()"
   ]
  },
  {
   "cell_type": "markdown",
   "id": "d2ddf674-ba64-4ddd-8a88-8753eb760fcd",
   "metadata": {},
   "source": [
    "Since the \"elbow\" of the curve occurs at around 7 or 6 PCs, this is the value that will be used in analyzing the data"
   ]
  },
  {
   "cell_type": "markdown",
   "id": "ae823aac-1d48-4b02-8939-d6ea3635ef7d",
   "metadata": {},
   "source": [
    "## Run PCA with 6 Components"
   ]
  },
  {
   "cell_type": "code",
   "execution_count": 8,
   "id": "f37937e8-6ed1-43de-b963-e59bf2327f9a",
   "metadata": {},
   "outputs": [],
   "source": [
    "pca6 = PCA(n_components=6)\n",
    "X_ = pca6.fit_transform(X_scaled)"
   ]
  },
  {
   "cell_type": "markdown",
   "id": "b45234b4-8312-4064-8449-017862ecd45a",
   "metadata": {},
   "source": [
    "Save the dataset to be run in future notebooks:"
   ]
  },
  {
   "cell_type": "code",
   "execution_count": 9,
   "id": "0091305e-735b-481b-aedd-7effdebcc635",
   "metadata": {},
   "outputs": [],
   "source": [
    "np.save(\"scaled-df.npy\", X_)"
   ]
  },
  {
   "cell_type": "code",
   "execution_count": null,
   "id": "2d112501-ed31-4379-b874-f47fdfd004b0",
   "metadata": {},
   "outputs": [],
   "source": []
  }
 ],
 "metadata": {
  "kernelspec": {
   "display_name": "Python 3 (ipykernel)",
   "language": "python",
   "name": "python3"
  },
  "language_info": {
   "codemirror_mode": {
    "name": "ipython",
    "version": 3
   },
   "file_extension": ".py",
   "mimetype": "text/x-python",
   "name": "python",
   "nbconvert_exporter": "python",
   "pygments_lexer": "ipython3",
   "version": "3.13.5"
  }
 },
 "nbformat": 4,
 "nbformat_minor": 5
}
